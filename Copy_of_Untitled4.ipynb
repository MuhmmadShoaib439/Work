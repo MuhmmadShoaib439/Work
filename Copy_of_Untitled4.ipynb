{
  "nbformat": 4,
  "nbformat_minor": 0,
  "metadata": {
    "colab": {
      "provenance": [],
      "authorship_tag": "ABX9TyM7knt0S6cXx6sbKh+XR1zF",
      "include_colab_link": true
    },
    "kernelspec": {
      "name": "python3",
      "display_name": "Python 3"
    },
    "language_info": {
      "name": "python"
    }
  },
  "cells": [
    {
      "cell_type": "markdown",
      "metadata": {
        "id": "view-in-github",
        "colab_type": "text"
      },
      "source": [
        "<a href=\"https://colab.research.google.com/github/MuhmmadShoaib439/Work/blob/main/Copy_of_Untitled4.ipynb\" target=\"_parent\"><img src=\"https://colab.research.google.com/assets/colab-badge.svg\" alt=\"Open In Colab\"/></a>"
      ]
    },
    {
      "cell_type": "code",
      "execution_count": null,
      "metadata": {
        "colab": {
          "base_uri": "https://localhost:8080/"
        },
        "id": "b038bcW1cCXx",
        "outputId": "53d19e7a-566c-4211-be31-343084a9e76d"
      },
      "outputs": [
        {
          "output_type": "stream",
          "name": "stdout",
          "text": [
            "Enter a String: Python\n",
            "nohtyP\n"
          ]
        }
      ],
      "source": [
        "#Reverse a String\n",
        "s = input(\"Enter a String: \")\n",
        "print(s[::-1])"
      ]
    },
    {
      "cell_type": "code",
      "source": [
        "#Print Length of String\n",
        "s = input(\"Enter a String: \")\n",
        "print(len(s))"
      ],
      "metadata": {
        "colab": {
          "base_uri": "https://localhost:8080/"
        },
        "id": "SXs0qAqEgae2",
        "outputId": "af54620f-a9d5-43ef-bce4-0c4b83781aab"
      },
      "execution_count": null,
      "outputs": [
        {
          "output_type": "stream",
          "name": "stdout",
          "text": [
            "Enter a String: Python Language\n",
            "15\n"
          ]
        }
      ]
    },
    {
      "cell_type": "code",
      "source": [
        "#Convert String to Uppercase\n",
        "s = input(\"Enter a String: \")\n",
        "print(s.upper())"
      ],
      "metadata": {
        "colab": {
          "base_uri": "https://localhost:8080/"
        },
        "id": "HgW5YQkQgv6U",
        "outputId": "adf1e707-3a04-412a-973d-9b4242b7caed"
      },
      "execution_count": null,
      "outputs": [
        {
          "output_type": "stream",
          "name": "stdout",
          "text": [
            "Enter a String: python language\n",
            "PYTHON LANGUAGE\n"
          ]
        }
      ]
    },
    {
      "cell_type": "code",
      "source": [
        "#Print the First Three Character\n",
        "s = input(\"Enter a String: \")\n",
        "print(s[:3])"
      ],
      "metadata": {
        "colab": {
          "base_uri": "https://localhost:8080/"
        },
        "id": "YUc9Ys38g6qj",
        "outputId": "7cdc90d5-063e-4e21-85cf-284d8fa0d3ae"
      },
      "execution_count": null,
      "outputs": [
        {
          "output_type": "stream",
          "name": "stdout",
          "text": [
            "Enter a String: Python\n",
            "Pyt\n"
          ]
        }
      ]
    },
    {
      "cell_type": "code",
      "source": [
        "#Check the character in String\n",
        "s = input(\"Enter a String: \")\n",
        "c = input(\"Enter a Character: \")\n",
        "if c in s:\n",
        "    print(\"Character Found\")\n",
        "else:\n",
        "    print(\"Character Not Found\")"
      ],
      "metadata": {
        "colab": {
          "base_uri": "https://localhost:8080/"
        },
        "id": "7-fQaDQMhth0",
        "outputId": "de3cf419-1a30-4ea6-99cd-2ba952bbbe5c"
      },
      "execution_count": null,
      "outputs": [
        {
          "output_type": "stream",
          "name": "stdout",
          "text": [
            "Enter a String: python language\n",
            "Enter a Character: python\n",
            "Character Found\n"
          ]
        }
      ]
    },
    {
      "cell_type": "code",
      "source": [
        "#Replace Occurrence of letter\n",
        "s = input(\"Enter a String: \")\n",
        "c = input(\"Enter a Character: \")\n",
        "r = input(\"Enter a Replacement Character: \")\n",
        "print(s.replace(c, r))"
      ],
      "metadata": {
        "colab": {
          "base_uri": "https://localhost:8080/"
        },
        "id": "zL8Su9T2ivOZ",
        "outputId": "a81775f3-b9ff-4a9b-a4bd-473acf26c57f"
      },
      "execution_count": null,
      "outputs": [
        {
          "output_type": "stream",
          "name": "stdout",
          "text": [
            "Enter a String: python is language\n",
            "Enter a Character: is\n",
            "Enter a Replacement Character: is a programming\n",
            "python is a programming language\n"
          ]
        }
      ]
    },
    {
      "cell_type": "code",
      "source": [
        "#Remove First Character\n",
        "s = input(\"Enter a String: \")\n",
        "print(s[1:])"
      ],
      "metadata": {
        "colab": {
          "base_uri": "https://localhost:8080/"
        },
        "id": "jNfG9_PojPao",
        "outputId": "3cd1bd8d-4497-44ff-805c-ebe08dab5a49"
      },
      "execution_count": null,
      "outputs": [
        {
          "output_type": "stream",
          "name": "stdout",
          "text": [
            "Enter a String: python\n",
            "ython\n"
          ]
        }
      ]
    },
    {
      "cell_type": "code",
      "source": [
        "#Count Character\n",
        "s = input(\"Enter a String: \")\n",
        "c = input(\"Enter a Character: \")\n",
        "print(s.count(c))"
      ],
      "metadata": {
        "colab": {
          "base_uri": "https://localhost:8080/"
        },
        "id": "ndb7kXBPjyk4",
        "outputId": "848428e4-67fe-428d-ee50-1bb4d5685894"
      },
      "execution_count": null,
      "outputs": [
        {
          "output_type": "stream",
          "name": "stdout",
          "text": [
            "Enter a String: python language\n",
            "Enter a Character: a\n",
            "2\n"
          ]
        }
      ]
    },
    {
      "cell_type": "code",
      "source": [
        "#Convert to Lowercase\n",
        "s = input(\"Enter a String: \")\n",
        "print(s.lower())"
      ],
      "metadata": {
        "colab": {
          "base_uri": "https://localhost:8080/"
        },
        "id": "x1qqLoMikBMY",
        "outputId": "cb486efa-99e5-48f4-912d-407c262e0d6a"
      },
      "execution_count": null,
      "outputs": [
        {
          "output_type": "stream",
          "name": "stdout",
          "text": [
            "Enter a String: PYTHON LANGUAGE\n",
            "python language\n"
          ]
        }
      ]
    },
    {
      "cell_type": "code",
      "source": [
        "#Print Every Second Character\n",
        "s = input(\"Enter a String: \")\n",
        "print(s[::2])"
      ],
      "metadata": {
        "colab": {
          "base_uri": "https://localhost:8080/"
        },
        "id": "BM2B_3Y_kOv4",
        "outputId": "cc6655dd-4280-45e1-c7f6-8a068f7f8f8e"
      },
      "execution_count": null,
      "outputs": [
        {
          "output_type": "stream",
          "name": "stdout",
          "text": [
            "Enter a String: python language\n",
            "pto agae\n"
          ]
        }
      ]
    },
    {
      "cell_type": "code",
      "source": [],
      "metadata": {
        "id": "3aP5ietpkY-Y"
      },
      "execution_count": null,
      "outputs": []
    }
  ]
}