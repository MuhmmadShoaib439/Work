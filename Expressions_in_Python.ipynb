{
  "nbformat": 4,
  "nbformat_minor": 0,
  "metadata": {
    "colab": {
      "provenance": [],
      "authorship_tag": "ABX9TyM/fCTbpRC5gtVNk1dfgNpF",
      "include_colab_link": true
    },
    "kernelspec": {
      "name": "python3",
      "display_name": "Python 3"
    },
    "language_info": {
      "name": "python"
    }
  },
  "cells": [
    {
      "cell_type": "markdown",
      "metadata": {
        "id": "view-in-github",
        "colab_type": "text"
      },
      "source": [
        "<a href=\"https://colab.research.google.com/github/MuhmmadShoaib439/Work/blob/main/Expressions_in_Python.ipynb\" target=\"_parent\"><img src=\"https://colab.research.google.com/assets/colab-badge.svg\" alt=\"Open In Colab\"/></a>"
      ]
    },
    {
      "cell_type": "code",
      "source": [
        "#Arithmetic Operations\n",
        "a = 5\n",
        "b = 2\n",
        "print(a + b)\n",
        "print(a - b)\n",
        "print(a * b)\n",
        "print(a / b)\n",
        "print(a % b) #Remainder\n",
        "print(a ** b) #Square\n",
        "print(a // b)"
      ],
      "metadata": {
        "colab": {
          "base_uri": "https://localhost:8080/"
        },
        "id": "ZJQcvgrl3q7u",
        "outputId": "a45c29ab-440a-4ac4-fcdf-b034f2d9d0ad"
      },
      "execution_count": null,
      "outputs": [
        {
          "output_type": "stream",
          "name": "stdout",
          "text": [
            "7\n",
            "3\n",
            "10\n",
            "2.5\n",
            "1\n",
            "25\n",
            "2\n"
          ]
        }
      ]
    },
    {
      "cell_type": "code",
      "source": [
        "#Relational/ Comparison Operators\n",
        "a = 70\n",
        "b = 30\n",
        "print(a == b)\n",
        "print(a != b)\n",
        "print(a > b)\n",
        "print(a < b)\n",
        "print(a >= b)\n",
        "print(a <= b)"
      ],
      "metadata": {
        "colab": {
          "base_uri": "https://localhost:8080/"
        },
        "id": "RshqL61B5bRM",
        "outputId": "f979e233-e53a-4f0f-c0ef-4e30792078b3"
      },
      "execution_count": null,
      "outputs": [
        {
          "output_type": "stream",
          "name": "stdout",
          "text": [
            "False\n",
            "True\n",
            "True\n",
            "False\n",
            "True\n",
            "False\n"
          ]
        }
      ]
    },
    {
      "cell_type": "code",
      "source": [
        "#Assignment Operators\n",
        "num = 20\n",
        "# num +=5\n",
        "# print(\"num : \", num)\n",
        "# num -=5\n",
        "# print(\"num : \", num)\n",
        "# num *=5\n",
        "# print(\"num : \", num)\n",
        "# num /=5\n",
        "# print(\"num : \", num)\n",
        "# num %=5\n",
        "# print(\"num : \", num)\n",
        "# num **=5\n",
        "# print(\"num : \", num)\n",
        "num //=5\n",
        "print(\"num : \", num)"
      ],
      "metadata": {
        "colab": {
          "base_uri": "https://localhost:8080/"
        },
        "id": "AVYBR0Js5wWZ",
        "outputId": "e8f7287d-0b2c-4dcb-b5a7-697b7ba39099"
      },
      "execution_count": null,
      "outputs": [
        {
          "output_type": "stream",
          "name": "stdout",
          "text": [
            "num :  4\n"
          ]
        }
      ]
    },
    {
      "cell_type": "code",
      "source": [
        "#Logical Operators\n",
        "#NOT OPERATOR\n",
        "# a = 50\n",
        "# b = 30\n",
        "# print(\"NOT Operator: \", not(a > b))\n",
        "# print(\"NOT Operator: \", not(a < b))\n",
        "# print(\"NOT Operator: \", not(a == b))\n",
        "# print(\"NOT Operator: \", not(a != b))\n",
        "# print(\"NOT Operator: \", not(a >= b))\n",
        "# print(\"NOT Operator: \", not(a <= b))\n",
        "# print(\"NOT Operator: \", not(a % b))\n",
        "# print(\"NOT Operator: \", not(a ** b))\n",
        "# print(\"NOT Operator: \", not(a // b))\n",
        "\n",
        "#AND OPERATOR\n",
        "# a = 50\n",
        "# b = 30\n",
        "# print(\"AND Operator: \", a > b and a < b)\n",
        "# print(\"AND Operator: \", a < b and a > b)\n",
        "# print(\"AND Operator: \", a == b and a != b)\n",
        "# print(\"AND Operator: \", a != b and a >= b)\n",
        "# print(\"AND Operator: \", a <= b and a % b)\n",
        "# print(\"AND Operator: \", a ** b and a // b)\n",
        "# print(\"AND Operator: \", a % b and a > b)\n",
        "# print(\"AND Operator: \", a // b and a < b)\n",
        "\n",
        "#OR OPERATOR\n",
        "a = 50\n",
        "b = 30\n",
        "print(\"OR Operator: \", a > b or a < b)\n",
        "print(\"OR Operator: \", a < b or a > b)\n",
        "print(\"OR Operator: \", a == b or a != b)\n",
        "print(\"OR Operator: \", a != b or a >= b)\n",
        "print(\"OR Operator: \", a <= b or a % b)\n",
        "print(\"OR Operator: \", a ** b or a // b)\n",
        "\n",
        "\n"
      ],
      "metadata": {
        "id": "xUfREFle5zqG",
        "colab": {
          "base_uri": "https://localhost:8080/"
        },
        "outputId": "0474aa03-37f5-4dd8-f069-c09e730aa596"
      },
      "execution_count": null,
      "outputs": [
        {
          "output_type": "stream",
          "name": "stdout",
          "text": [
            "OR Operator:  True\n",
            "OR Operator:  True\n",
            "OR Operator:  True\n",
            "OR Operator:  True\n",
            "OR Operator:  20\n",
            "OR Operator:  931322574615478515625000000000000000000000000000000\n"
          ]
        }
      ]
    }
  ]
}